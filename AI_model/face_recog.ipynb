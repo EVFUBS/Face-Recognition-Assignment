{
 "cells": [
  {
   "attachments": {},
   "cell_type": "markdown",
   "metadata": {},
   "source": [
    "DATASET"
   ]
  },
  {
   "cell_type": "code",
   "execution_count": 72,
   "metadata": {},
   "outputs": [],
   "source": [
    "import shutil\n",
    "import pandas as pd\n",
    "import numpy as np\n",
    "import cv2\n",
    "import os"
   ]
  },
  {
   "cell_type": "code",
   "execution_count": 73,
   "metadata": {},
   "outputs": [
    {
     "name": "stdout",
     "output_type": "stream",
     "text": [
      "62\n",
      "                      name  images\n",
      "210           Alvaro_Uribe      35\n",
      "4551  Recep_Tayyip_Erdogan      30\n",
      "5354           Tiger_Woods      23\n",
      "5659          Winona_Ryder      24\n",
      "248           Andre_Agassi      36\n"
     ]
    }
   ],
   "source": [
    "lfw_allnames = pd.read_csv('lfw_allnames.csv')\n",
    "lfw_allnames = lfw_allnames[lfw_allnames['images'] >= 20]\n",
    "print(len(lfw_allnames))\n",
    "\n",
    "lfw_allnames = lfw_allnames.sample(n=5)\n",
    "print(lfw_allnames)\n",
    "\n",
    "lfw_allnames.to_csv('lfw_224.csv', index=False)\n",
    "names = lfw_allnames['name'].tolist()\n",
    "\n",
    "os.mkdir('lfw_224')\n",
    "\n",
    "for name in names:\n",
    "    shutil.copytree('lfw-deepfunneled/' + name, 'lfw_224/' + name)"
   ]
  },
  {
   "cell_type": "code",
   "execution_count": 74,
   "metadata": {},
   "outputs": [],
   "source": [
    "for name in names:\n",
    "    images = os.listdir('lfw_224/' + name)\n",
    "    for image in images:\n",
    "        img = cv2.imread('lfw_224/' + name + '/' + image)\n",
    "        img = cv2.resize(img, (224, 224))\n",
    "        cv2.imwrite('lfw_224/' + name + '/' + image, img)"
   ]
  },
  {
   "cell_type": "code",
   "execution_count": 75,
   "metadata": {},
   "outputs": [],
   "source": [
    "os.mkdir('lfw_224/train')\n",
    "os.mkdir('lfw_224/test')\n",
    "\n",
    "for name in names:\n",
    "    images = os.listdir('lfw_224/' + name)\n",
    "    images = np.random.choice(images, 10, replace=False)\n",
    "    os.mkdir('lfw_224/test/' + name)\n",
    "    for image in images:\n",
    "        shutil.move('lfw_224/' + name + '/' + image, 'lfw_224/test/' + name + '/' + image)\n",
    "\n",
    "for name in names:\n",
    "    os.mkdir('lfw_224/train/' + name)\n",
    "    images = os.listdir('lfw_224/' + name)\n",
    "    for image in images:\n",
    "        shutil.move('lfw_224/' + name + '/' + image, 'lfw_224/train/' + name + '/' + image)\n",
    "        \n",
    "for name in names:\n",
    "    os.rmdir('lfw_224/' + name)"
   ]
  },
  {
   "cell_type": "code",
   "execution_count": 76,
   "metadata": {},
   "outputs": [],
   "source": [
    "images = os.listdir('me')\n",
    "for image in images:\n",
    "    img = cv2.imread('me/' + image)\n",
    "    img = cv2.resize(img, (224, 224))\n",
    "    cv2.imwrite('me/' + image, img)\n",
    "    \n",
    "os.mkdir('lfw_224/train/Luke')\n",
    "os.mkdir('lfw_224/test/Luke')\n",
    "images = os.listdir('me')\n",
    "images = np.random.choice(images, 6, replace=False)\n",
    "for image in images:\n",
    "    shutil.copy('me/' + image, 'lfw_224/test/Luke/' + image)\n",
    "images = os.listdir('me')\n",
    "for image in images:\n",
    "    shutil.copy('me/' + image, 'lfw_224/train/Luke/' + image)"
   ]
  },
  {
   "attachments": {},
   "cell_type": "markdown",
   "metadata": {},
   "source": [
    "MODEL"
   ]
  },
  {
   "cell_type": "code",
   "execution_count": 85,
   "metadata": {},
   "outputs": [],
   "source": [
    "import tensorflow as tf\n",
    "from tensorflow.keras.models import Sequential\n",
    "from tensorflow.keras.layers import Conv2D, MaxPooling2D, Flatten, Dense, Dropout, BatchNormalization\n",
    "from tensorflow.keras.optimizers import Adam\n",
    "from tensorflow.keras.losses import CategoricalCrossentropy\n",
    "from tensorflow.keras.callbacks import ModelCheckpoint, EarlyStopping\n",
    "from tensorflow.keras.preprocessing.image import ImageDataGenerator\n",
    "from PIL import Image\n",
    "import os\n",
    "from keras.applications import ResNet50"
   ]
  },
  {
   "cell_type": "code",
   "execution_count": 86,
   "metadata": {},
   "outputs": [
    {
     "name": "stdout",
     "output_type": "stream",
     "text": [
      "Found 112 images belonging to 6 classes.\n",
      "Found 56 images belonging to 6 classes.\n"
     ]
    }
   ],
   "source": [
    "train_datagen = ImageDataGenerator(\n",
    "    rescale=1./255,\n",
    "    rotation_range=10,\n",
    "    width_shift_range=0.1,\n",
    "    height_shift_range=0.1,\n",
    "    shear_range=0.2,\n",
    "    zoom_range=0.1,\n",
    "    horizontal_flip=True,\n",
    "    brightness_range=[0.7, 1.3],\n",
    "    channel_shift_range=25,  \n",
    "    fill_mode='nearest'\n",
    ")\n",
    "\n",
    "train_generator = train_datagen.flow_from_directory(\n",
    "    'lfw_224/train',\n",
    "    target_size=(224, 224),\n",
    "    batch_size=16,\n",
    "    class_mode='categorical'\n",
    ")\n",
    "\n",
    "test_datagen = ImageDataGenerator(rescale=1./255)\n",
    "\n",
    "val_generator = test_datagen.flow_from_directory(\n",
    "    'lfw_224/test',\n",
    "    target_size=(224, 224),\n",
    "    batch_size=16,\n",
    "    class_mode='categorical'\n",
    ")"
   ]
  },
  {
   "cell_type": "code",
   "execution_count": 92,
   "metadata": {},
   "outputs": [],
   "source": [
    "input_shape=(224,224,3)\n",
    "num_of_identities = len(os.listdir('lfw_224/train'))\n",
    "\n",
    "# model to predict 10 identities\n",
    "model = Sequential([\n",
    "    Conv2D(32, (3, 3), activation='relu', input_shape=input_shape),\n",
    "    MaxPooling2D((2, 2)),\n",
    "    Conv2D(64, (3, 3), activation='relu'),\n",
    "    MaxPooling2D((2, 2)),\n",
    "    Conv2D(128, (3, 3), activation='relu'),\n",
    "    MaxPooling2D((2, 2)),\n",
    "    Flatten(),\n",
    "    Dense(256, activation='relu'),\n",
    "    Dense(num_of_identities, activation='softmax')\n",
    "])"
   ]
  },
  {
   "cell_type": "code",
   "execution_count": 93,
   "metadata": {},
   "outputs": [],
   "source": [
    "optimizer = Adam(learning_rate=0.001)\n",
    "loss = CategoricalCrossentropy()\n",
    "\n",
    "# accuracy, top-k categorical accuracy, precision, recall, AUC\n",
    "metrics = ['accuracy', 'top_k_categorical_accuracy', tf.keras.metrics.Precision(), tf.keras.metrics.Recall(), tf.keras.metrics.AUC()]\n",
    "model.compile(optimizer=optimizer, loss=loss, metrics=metrics)"
   ]
  },
  {
   "cell_type": "code",
   "execution_count": 94,
   "metadata": {},
   "outputs": [
    {
     "name": "stdout",
     "output_type": "stream",
     "text": [
      "Model: \"sequential_6\"\n",
      "_________________________________________________________________\n",
      " Layer (type)                Output Shape              Param #   \n",
      "=================================================================\n",
      " conv2d_18 (Conv2D)          (None, 222, 222, 32)      896       \n",
      "                                                                 \n",
      " max_pooling2d_18 (MaxPoolin  (None, 111, 111, 32)     0         \n",
      " g2D)                                                            \n",
      "                                                                 \n",
      " conv2d_19 (Conv2D)          (None, 109, 109, 64)      18496     \n",
      "                                                                 \n",
      " max_pooling2d_19 (MaxPoolin  (None, 54, 54, 64)       0         \n",
      " g2D)                                                            \n",
      "                                                                 \n",
      " conv2d_20 (Conv2D)          (None, 52, 52, 128)       73856     \n",
      "                                                                 \n",
      " max_pooling2d_20 (MaxPoolin  (None, 26, 26, 128)      0         \n",
      " g2D)                                                            \n",
      "                                                                 \n",
      " flatten_6 (Flatten)         (None, 86528)             0         \n",
      "                                                                 \n",
      " dense_12 (Dense)            (None, 256)               22151424  \n",
      "                                                                 \n",
      " dense_13 (Dense)            (None, 6)                 1542      \n",
      "                                                                 \n",
      "=================================================================\n",
      "Total params: 22,246,214\n",
      "Trainable params: 22,246,214\n",
      "Non-trainable params: 0\n",
      "_________________________________________________________________\n"
     ]
    }
   ],
   "source": [
    "model.summary()"
   ]
  },
  {
   "cell_type": "code",
   "execution_count": 95,
   "metadata": {},
   "outputs": [],
   "source": [
    "file_path=\"face_model.h5\"\n",
    "checkpoint = ModelCheckpoint(file_path, monitor='accuracy', save_best_only=True)"
   ]
  },
  {
   "cell_type": "code",
   "execution_count": null,
   "metadata": {},
   "outputs": [],
   "source": [
    "model.fit(\n",
    "    train_generator,\n",
    "    epochs=30,\n",
    "    validation_data=val_generator,\n",
    "    callbacks=[checkpoint]\n",
    "    )"
   ]
  },
  {
   "cell_type": "code",
   "execution_count": 100,
   "metadata": {},
   "outputs": [
    {
     "name": "stdout",
     "output_type": "stream",
     "text": [
      "Found 56 images belonging to 6 classes.\n",
      "2/2 [==============================] - 0s 110ms/step - loss: 1.3922 - accuracy: 0.6964 - top_k_categorical_accuracy: 1.0000 - precision_3: 0.7037 - recall_3: 0.6786 - auc_3: 0.9043\n",
      "7/7 [==============================] - 1s 146ms/step - loss: 0.2346 - accuracy: 0.9196 - top_k_categorical_accuracy: 1.0000 - precision_3: 0.9273 - recall_3: 0.9107 - auc_3: 0.9937\n"
     ]
    },
    {
     "data": {
      "text/plain": [
       "[0.23463329672813416,\n",
       " 0.9196428656578064,\n",
       " 1.0,\n",
       " 0.9272727370262146,\n",
       " 0.9107142686843872,\n",
       " 0.9936782121658325]"
      ]
     },
     "execution_count": 100,
     "metadata": {},
     "output_type": "execute_result"
    }
   ],
   "source": [
    "import tensorflow as tf\n",
    "import numpy as np\n",
    "\n",
    "model = tf.keras.models.load_model('face_model.h5')\n",
    "\n",
    "test_datagen = ImageDataGenerator(rescale=1./255)\n",
    "\n",
    "test_generator = test_datagen.flow_from_directory(\n",
    "    'lfw_224/test',\n",
    "    target_size=(224, 224),\n",
    "    batch_size=32,\n",
    "    class_mode='categorical'\n",
    "    )\n",
    "\n",
    "model.evaluate(test_generator)\n",
    "model.evaluate(train_generator)"
   ]
  }
 ],
 "metadata": {
  "kernelspec": {
   "display_name": "tfdml",
   "language": "python",
   "name": "python3"
  },
  "language_info": {
   "codemirror_mode": {
    "name": "ipython",
    "version": 3
   },
   "file_extension": ".py",
   "mimetype": "text/x-python",
   "name": "python",
   "nbconvert_exporter": "python",
   "pygments_lexer": "ipython3",
   "version": "3.11.3"
  },
  "orig_nbformat": 4
 },
 "nbformat": 4,
 "nbformat_minor": 2
}
